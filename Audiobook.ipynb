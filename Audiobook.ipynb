{
 "cells": [
  {
   "cell_type": "code",
   "execution_count": null,
   "id": "1824502b",
   "metadata": {},
   "outputs": [],
   "source": []
  },
  {
   "cell_type": "code",
   "execution_count": 3,
   "id": "1b9b4dc4",
   "metadata": {},
   "outputs": [],
   "source": [
    "import pyttsx3\n",
    "import PyPDF2"
   ]
  },
  {
   "cell_type": "code",
   "execution_count": 6,
   "id": "70f8b261",
   "metadata": {},
   "outputs": [],
   "source": [
    "# book=open('ssss.pdf','rb')\n",
    "# pdfreader=PyPDF2.PdfReader(book)\n",
    "# pages=pdfreader.numpages\n",
    "# print(\"audio book is started\")\n",
    "# speaker=pyttsx3.init()\n",
    "# for num in range(1,pages):\n",
    "#     page=pdfreader.getPage(num)\n",
    "#     text=page.extractText()\n",
    "#     speaker=say(text)\n",
    "#     speaker.runAndWait()"
   ]
  },
  {
   "cell_type": "code",
   "execution_count": 7,
   "id": "e2dc7b67",
   "metadata": {},
   "outputs": [
    {
     "name": "stdout",
     "output_type": "stream",
     "text": [
      "Audio book is started\n"
     ]
    }
   ],
   "source": [
    "import pyttsx3\n",
    "import PyPDF2\n",
    "\n",
    "# Open the PDF file\n",
    "book = open('ssss.pdf', 'rb')\n",
    "\n",
    "# Create a PDF reader object\n",
    "pdfreader = PyPDF2.PdfReader(book)\n",
    "\n",
    "# Get the total number of pages\n",
    "pages = len(pdfreader.pages)\n",
    "\n",
    "# Initialize the text-to-speech engine\n",
    "print(\"Audio book is started\")\n",
    "speaker = pyttsx3.init()\n",
    "\n",
    "# Iterate through each page and read the text\n",
    "for num in range(pages):\n",
    "    page = pdfreader.pages[num]\n",
    "    text = page.extract_text()\n",
    "    speaker.say(text)\n",
    "    speaker.runAndWait()\n",
    "\n",
    "# Close the PDF file\n",
    "book.close()\n"
   ]
  },
  {
   "cell_type": "code",
   "execution_count": null,
   "id": "2082c206",
   "metadata": {},
   "outputs": [],
   "source": []
  }
 ],
 "metadata": {
  "kernelspec": {
   "display_name": "Python 3 (ipykernel)",
   "language": "python",
   "name": "python3"
  },
  "language_info": {
   "codemirror_mode": {
    "name": "ipython",
    "version": 3
   },
   "file_extension": ".py",
   "mimetype": "text/x-python",
   "name": "python",
   "nbconvert_exporter": "python",
   "pygments_lexer": "ipython3",
   "version": "3.11.3"
  }
 },
 "nbformat": 4,
 "nbformat_minor": 5
}
