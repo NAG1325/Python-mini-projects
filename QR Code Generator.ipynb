{
 "cells": [
  {
   "cell_type": "code",
   "execution_count": 2,
   "id": "f8cda9f1",
   "metadata": {},
   "outputs": [],
   "source": [
    "import qrcode\n",
    "qr=qrcode.make(\"please subscribe to my channel\")\n",
    "data=\"https://www.youtube.com/@PythonLifetelugu\"\n",
    "qr=qrcode.make(data)\n",
    "qr.save(\"pythonlife.png\")\n",
    "qr.show()"
   ]
  }
 ],
 "metadata": {
  "kernelspec": {
   "display_name": "Python 3 (ipykernel)",
   "language": "python",
   "name": "python3"
  },
  "language_info": {
   "codemirror_mode": {
    "name": "ipython",
    "version": 3
   },
   "file_extension": ".py",
   "mimetype": "text/x-python",
   "name": "python",
   "nbconvert_exporter": "python",
   "pygments_lexer": "ipython3",
   "version": "3.11.3"
  }
 },
 "nbformat": 4,
 "nbformat_minor": 5
}
