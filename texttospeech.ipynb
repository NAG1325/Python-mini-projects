{
 "cells": [
  {
   "cell_type": "code",
   "execution_count": 5,
   "id": "a77da0bc",
   "metadata": {},
   "outputs": [
    {
     "name": "stdout",
     "output_type": "stream",
     "text": [
      "Enter something here: i love you bongramm\n"
     ]
    }
   ],
   "source": [
    "import gtts\n",
    "import playsound\n",
    "\n",
    "text = input(\"Enter something here: \")\n",
    "sound = gtts.gTTS(text, lang=\"en\")\n",
    "sound.save(\"nag.mp3\")\n",
    "playsound.playsound(\"nag.mp3\")\n"
   ]
  },
  {
   "cell_type": "code",
   "execution_count": null,
   "id": "8afaae10",
   "metadata": {},
   "outputs": [],
   "source": []
  }
 ],
 "metadata": {
  "kernelspec": {
   "display_name": "Python 3 (ipykernel)",
   "language": "python",
   "name": "python3"
  },
  "language_info": {
   "codemirror_mode": {
    "name": "ipython",
    "version": 3
   },
   "file_extension": ".py",
   "mimetype": "text/x-python",
   "name": "python",
   "nbconvert_exporter": "python",
   "pygments_lexer": "ipython3",
   "version": "3.11.3"
  }
 },
 "nbformat": 4,
 "nbformat_minor": 5
}
