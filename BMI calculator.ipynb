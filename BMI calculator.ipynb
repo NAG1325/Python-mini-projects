{
 "cells": [
  {
   "cell_type": "code",
   "execution_count": null,
   "id": "4c801f30",
   "metadata": {},
   "outputs": [],
   "source": [
    "weight=float(input(\"Enter the weight of the person in kgs:\"))\n",
    "Height=float(input(\"Enter the height of the  person in mts:\"))\n",
    "BMI=weight/height**2\n",
    "if BMI<18.5:\n",
    "    print (\"Under weight\")\n",
    "elif BMI < 25:\n",
    "    print(\"Healthy weight\")\n",
    "else:\n",
    "    print(\"Over weight\")"
   ]
  },
  {
   "cell_type": "code",
   "execution_count": null,
   "id": "7ff775b0",
   "metadata": {},
   "outputs": [],
   "source": []
  }
 ],
 "metadata": {
  "kernelspec": {
   "display_name": "Python 3 (ipykernel)",
   "language": "python",
   "name": "python3"
  },
  "language_info": {
   "codemirror_mode": {
    "name": "ipython",
    "version": 3
   },
   "file_extension": ".py",
   "mimetype": "text/x-python",
   "name": "python",
   "nbconvert_exporter": "python",
   "pygments_lexer": "ipython3",
   "version": "3.11.3"
  }
 },
 "nbformat": 4,
 "nbformat_minor": 5
}
